{
 "cells": [
  {
   "cell_type": "markdown",
   "metadata": {},
   "source": [
    "# Examen Parcial - Python.\n",
    "Alumna: Malena Analuz Gonzalez.\n",
    "\n",
    "Ejecución del código en la terminal de git bash:\n",
    "- Crear entorno virtual -> python -m venv venv\n",
    "- Activar entorno virtual -> source venv/Scritps/activate\n",
    "\n",
    "En la terminal de powershell instalar librerias:\n",
    "- Pandas\n",
    "- Numpy\n",
    "- Matplotlib"
   ]
  },
  {
   "cell_type": "markdown",
   "metadata": {},
   "source": [
    "# Ejercicio 1: comparar cadenas lexicográficamente en una función."
   ]
  },
  {
   "cell_type": "code",
   "execution_count": null,
   "metadata": {},
   "outputs": [],
   "source": [
    "def comparar_cadenas_lexicofraficas(cadena1, cadena2):\n",
    "    cadena1 = cadena1.lower()\n",
    "    cadena2 = cadena2.lower()\n",
    "    if cadena1 < cadena2:\n",
    "        return -1\n",
    "    elif cadena1 > cadena2:\n",
    "        return 1\n",
    "    else: \n",
    "        return 0\n",
    "\n",
    "print(comparar_cadenas_lexicofraficas(\"abc\", \"abd\"))"
   ]
  },
  {
   "cell_type": "markdown",
   "metadata": {},
   "source": [
    "# Ejercicio 2: mediante la lista de ventas mensuales se realiza un análisis básico con pandas.\n",
    "- También se puede instalar la librería pandas ahora o antes de realizar este ejercicio."
   ]
  },
  {
   "cell_type": "code",
   "execution_count": null,
   "metadata": {},
   "outputs": [],
   "source": [
    "ventas_mensuales = [\n",
    "    {\"mes\": \"Enero\", \"total_ventas\": 15000, \"año\": 2023},\n",
    "    {\"mes\": \"Febrero\", \"total_ventas\": 18000, \"año\": 2023},\n",
    "    {\"mes\": \"Marzo\", \"total_ventas\": 22000, \"año\": 2023},\n",
    "    {\"mes\": \"Abril\", \"total_ventas\": 19000, \"año\": 2023},\n",
    "    {\"mes\": \"Mayo\", \"total_ventas\": 25000, \"año\": 2023},\n",
    "    {\"mes\": \"Junio\", \"total_ventas\": 28000, \"año\": 2023},\n",
    "    {\"mes\": \"Julio\", \"total_ventas\": 32000, \"año\": 2023},\n",
    "    {\"mes\": \"Agosto\", \"total_ventas\": 30000, \"año\": 2023},\n",
    "    {\"mes\": \"Septiembre\", \"total_ventas\": 28000, \"año\": 2023},\n",
    "    {\"mes\": \"Octubre\", \"total_ventas\": 31000, \"año\": 2023},\n",
    "    {\"mes\": \"Noviembre\", \"total_ventas\": 33000, \"año\": 2023},\n",
    "    {\"mes\": \"Diciembre\", \"total_ventas\": 36000, \"año\": 2023},\n",
    "    {\"mes\": \"Enero 2\", \"total_ventas\": 37000, \"año\": 2024},\n",
    "    {\"mes\": \"Febrero 2\", \"total_ventas\": 38000, \"año\": 2024},\n",
    "    {\"mes\": \"Marzo 2\", \"total_ventas\": 42000, \"año\": 2024},\n",
    "    {\"mes\": \"Abril 2\", \"total_ventas\": 39000, \"año\": 2024},\n",
    "    {\"mes\": \"Mayo 2\", \"total_ventas\": 45000, \"año\": 2024},\n",
    "    {\"mes\": \"Junio 2\", \"total_ventas\": 48000, \"año\": 2024},\n",
    "    {\"mes\": \"Julio 2\", \"total_ventas\": 52000, \"año\": 2024},\n",
    "    {\"mes\": \"Agosto 2\", \"total_ventas\": 50000, \"año\": 2024},\n",
    "    {\"mes\": \"Septiembre 2\", \"total_ventas\": 48000, \"año\": 2024},\n",
    "    {\"mes\": \"Octubre 2\", \"total_ventas\": 51000, \"año\": 2024},\n",
    "    {\"mes\": \"Noviembre 2\", \"total_ventas\": 55000, \"año\": 2024},\n",
    "    {\"mes\": \"Diciembre 2\", \"total_ventas\": 58000, \"año\": 2024}\n",
    "]"
   ]
  },
  {
   "cell_type": "markdown",
   "metadata": {},
   "source": [
    "# Crea un DataFrame con los datos."
   ]
  },
  {
   "cell_type": "code",
   "execution_count": null,
   "metadata": {},
   "outputs": [],
   "source": [
    "df = pd.data.frame(ventas_mensuales)"
   ]
  },
  {
   "cell_type": "markdown",
   "metadata": {},
   "source": [
    "# Agrega una columna para el trimestre."
   ]
  },
  {
   "cell_type": "code",
   "execution_count": null,
   "metadata": {},
   "outputs": [],
   "source": [
    "trimestres = {\n",
    "    \"Primero\": [\"Enero\", \"Febrero\", \"Marzo\"],\n",
    "    \"Segundo\": [\"Abril\", \"Mayo\", \"Junio\"],\n",
    "    \"Tercero\": [\"Julio\", \"Agosto\", \"Septiembre\"],\n",
    "    \"Cuarto\": [\"Octubre\", \"Noviembre\", \"Diciembre\"]\n",
    "}\n",
    "\n",
    "def asignar_trimestre(mes):\n",
    "    for key, value in trimestres.items():\n",
    "        if mes in value:\n",
    "            return key\n",
    "\n",
    "df[\"trimestre\"] = df[\"mes\"].apply(asignar_trimestre)"
   ]
  },
  {
   "cell_type": "markdown",
   "metadata": {},
   "source": [
    "# Calcular el total de ventas por trimestre."
   ]
  },
  {
   "cell_type": "code",
   "execution_count": null,
   "metadata": {},
   "outputs": [],
   "source": [
    "ventas_mensuales = df.groupby(\"trimestre\")[\"total_ventas\"].sum()"
   ]
  },
  {
   "cell_type": "markdown",
   "metadata": {},
   "source": [
    "# Imprimir el total de ventas por trimestre."
   ]
  },
  {
   "cell_type": "code",
   "execution_count": null,
   "metadata": {},
   "outputs": [],
   "source": [
    "print(ventas_mensuales)"
   ]
  }
 ],
 "metadata": {
  "kernelspec": {
   "display_name": "venv",
   "language": "python",
   "name": "python3"
  },
  "language_info": {
   "codemirror_mode": {
    "name": "ipython",
    "version": 3
   },
   "file_extension": ".py",
   "mimetype": "text/x-python",
   "name": "python",
   "nbconvert_exporter": "python",
   "pygments_lexer": "ipython3",
   "version": "3.12.2"
  }
 },
 "nbformat": 4,
 "nbformat_minor": 2
}
